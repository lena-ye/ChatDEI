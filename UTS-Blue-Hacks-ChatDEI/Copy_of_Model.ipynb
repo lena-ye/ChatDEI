{
  "nbformat": 4,
  "nbformat_minor": 0,
  "metadata": {
    "colab": {
      "provenance": [],
      "include_colab_link": true
    },
    "kernelspec": {
      "name": "python3",
      "display_name": "Python 3"
    },
    "language_info": {
      "name": "python"
    }
  },
  "cells": [
    {
      "cell_type": "markdown",
      "metadata": {
        "id": "view-in-github",
        "colab_type": "text"
      },
      "source": [
        "<a href=\"https://colab.research.google.com/github/Lilllyay/UTS-Blue-Hacks/blob/main/Copy_of_Model.ipynb\" target=\"_parent\"><img src=\"https://colab.research.google.com/assets/colab-badge.svg\" alt=\"Open In Colab\"/></a>"
      ]
    },
    {
      "cell_type": "code",
      "execution_count": null,
      "metadata": {
        "id": "AQxEMpxMgPDX"
      },
      "outputs": [],
      "source": [
        "import numpy as np\n",
        "import pandas as pd\n",
        "\n",
        "import re\n",
        "from nltk.corpus import stopwords # to remove the stopwords\n",
        "from sklearn.model_selection import train_test_split\n",
        "from tensorflow.keras.preprocessing.text import Tokenizer\n",
        "from tensorflow.keras.preprocessing.sequence import pad_sequences\n",
        "from tensorflow.keras.models import Sequential\n",
        "from tensorflow.keras.layers import Embedding, LSTM, Dense, Dropout\n",
        "\n",
        "from keras.utils import to_categorical\n",
        "from keras import backend as K"
      ]
    },
    {
      "cell_type": "code",
      "source": [
        "import nltk\n",
        "nltk.download('stopwords')\n",
        "nltk.download('punkt')"
      ],
      "metadata": {
        "colab": {
          "base_uri": "https://localhost:8080/"
        },
        "id": "W5Dj4pGjhaxt",
        "outputId": "c3bdb503-d78e-42d0-e728-0a98c2dc2797"
      },
      "execution_count": null,
      "outputs": [
        {
          "output_type": "stream",
          "name": "stderr",
          "text": [
            "[nltk_data] Downloading package stopwords to /root/nltk_data...\n",
            "[nltk_data]   Unzipping corpora/stopwords.zip.\n",
            "[nltk_data] Downloading package punkt to /root/nltk_data...\n",
            "[nltk_data]   Unzipping tokenizers/punkt.zip.\n"
          ]
        },
        {
          "output_type": "execute_result",
          "data": {
            "text/plain": [
              "True"
            ]
          },
          "metadata": {},
          "execution_count": 2
        }
      ]
    },
    {
      "cell_type": "code",
      "source": [
        "from google.colab import drive\n",
        "drive.mount('/content/drive')"
      ],
      "metadata": {
        "colab": {
          "base_uri": "https://localhost:8080/"
        },
        "id": "JD5H1gCXgxIV",
        "outputId": "81b2e572-7604-4070-a7a4-77b0fac1f42e"
      },
      "execution_count": null,
      "outputs": [
        {
          "output_type": "stream",
          "name": "stdout",
          "text": [
            "Mounted at /content/drive\n"
          ]
        }
      ]
    },
    {
      "cell_type": "code",
      "source": [
        "data = pd.read_csv('/content/drive/MyDrive/train - finalized - train.csv')"
      ],
      "metadata": {
        "id": "8EqCDuQpg5Dm"
      },
      "execution_count": null,
      "outputs": []
    },
    {
      "cell_type": "code",
      "source": [
        "# dataset shape to know how many tweets in the datasets\n",
        "print(f\"num of tweets: {data.shape}\")\n",
        "\n",
        "# extract the text and labels\n",
        "tweet = list(data['tweet'])\n",
        "labels = list(data['class'])"
      ],
      "metadata": {
        "colab": {
          "base_uri": "https://localhost:8080/"
        },
        "id": "buvvhCA9hMId",
        "outputId": "6a3c8438-028d-4051-a865-976f3ded9f75"
      },
      "execution_count": null,
      "outputs": [
        {
          "output_type": "stream",
          "name": "stdout",
          "text": [
            "num of tweets: (24861, 6)\n"
          ]
        }
      ]
    },
    {
      "cell_type": "code",
      "source": [
        "#notes : all of the function taking 1 text at a time\n",
        "stop_words = set(stopwords.words('english'))\n",
        "# add rt to remove retweet in dataset (noise)\n",
        "stop_words.add(\"rt\")\n",
        "\n",
        "# remove html entity:\n",
        "def remove_entity(raw_text):\n",
        "    entity_regex = r\"&[^\\s;]+;\"\n",
        "    text = re.sub(entity_regex, \"\", raw_text)\n",
        "    return text"
      ],
      "metadata": {
        "id": "IQX7epTQhUH8"
      },
      "execution_count": null,
      "outputs": []
    },
    {
      "cell_type": "code",
      "source": [
        "# change the user tags\n",
        "def change_user(raw_text):\n",
        "    regex = r\"@([^ ]+)\"\n",
        "    text = re.sub(regex, \"user\", raw_text)\n",
        "\n",
        "    return text\n",
        "\n",
        "# remove urls\n",
        "def remove_url(raw_text):\n",
        "    url_regex = r\"(?i)\\b((?:https?://|www\\d{0,3}[.]|[a-z0-9.\\-]+[.][a-z]{2,4}/)(?:[^\\s()<>]+|\\(([^\\s()<>]+|(\\([^\\s()<>]+\\)))*\\))+(?:\\(([^\\s()<>]+|(\\([^\\s()<>]+\\)))*\\)|[^\\s`!()\\[\\]{};:'\\\".,<>?«»“”‘’]))\"\n",
        "    text = re.sub(url_regex, '', raw_text)\n",
        "\n",
        "    return text"
      ],
      "metadata": {
        "id": "KZQpaQf7hksU"
      },
      "execution_count": null,
      "outputs": []
    },
    {
      "cell_type": "code",
      "source": [
        "def remove_noise_symbols(raw_text):\n",
        "    text = raw_text.replace('\"', '')\n",
        "    text = text.replace(\"'\", '')\n",
        "    text = text.replace(\"!\", '')\n",
        "    text = text.replace(\"`\", '')\n",
        "    text = text.replace(\"..\", '')\n",
        "\n",
        "    return text\n",
        "  # remove stopwords\n",
        "def remove_stopwords(raw_text):\n",
        "    tokenize = nltk.word_tokenize(raw_text)\n",
        "    text = [word for word in tokenize if not word.lower() in stop_words]\n",
        "    text = \" \".join(text)\n",
        "\n",
        "    return text"
      ],
      "metadata": {
        "id": "sJhvsmj5hqlJ"
      },
      "execution_count": null,
      "outputs": []
    },
    {
      "cell_type": "code",
      "source": [
        "def preprocess(datas):\n",
        "    clean = []\n",
        "    # change the @xxx into \"user\"\n",
        "    clean = [change_user(text) for text in datas]\n",
        "    # remove emojis (specifically unicode emojis)\n",
        "    clean = [remove_entity(text) for text in clean]\n",
        "    # remove urls\n",
        "    clean = [remove_url(text) for text in clean]\n",
        "    # remove trailing stuff\n",
        "    clean = [remove_noise_symbols(text) for text in clean]\n",
        "    # remove stopwords\n",
        "    clean = [remove_stopwords(text) for text in clean]\n",
        "\n",
        "    return clean"
      ],
      "metadata": {
        "id": "_nYXZv9dhtKC"
      },
      "execution_count": null,
      "outputs": []
    },
    {
      "cell_type": "code",
      "source": [
        "# call the cleaning function\n",
        "clean_tweet = preprocess(tweet)"
      ],
      "metadata": {
        "id": "g9qmJtGbhzHj"
      },
      "execution_count": null,
      "outputs": []
    },
    {
      "cell_type": "code",
      "source": [
        "X_train, X_test, y_train, y_test = train_test_split(clean_tweet, labels, test_size=0.2, random_state=42)\n",
        "tokenizer = Tokenizer()\n",
        "# build the vocabulary based on train dataset\n",
        "tokenizer.fit_on_texts(X_train)\n",
        "# tokenize the train and test dataset\n",
        "X_train = tokenizer.texts_to_sequences(X_train)\n",
        "X_test = tokenizer.texts_to_sequences(X_test)\n",
        "# vocabulary size (num of unique words) -> will be used in embedding layer\n",
        "vocab_size = len(tokenizer.word_index) + 1"
      ],
      "metadata": {
        "id": "rs5bLsk09aIB"
      },
      "execution_count": null,
      "outputs": []
    },
    {
      "cell_type": "code",
      "source": [
        "## Padding -> to uniform the datas\n",
        "max_length = max(len(seq) for seq in X_train)\n",
        "\n",
        "# to test an outlier case (if one of the test dataset has longer length)\n",
        "for x in X_test:\n",
        "    if len(x) > max_length:\n",
        "        print(f\"an outlier detected: {x}\")\n",
        "\n",
        "X_train = pad_sequences(X_train, maxlen = max_length)\n",
        "X_test = pad_sequences(X_test, maxlen = max_length)"
      ],
      "metadata": {
        "id": "860IF0BCQ2Ti"
      },
      "execution_count": null,
      "outputs": []
    },
    {
      "cell_type": "code",
      "source": [
        "# create hot_labels\n",
        "y_test = to_categorical(y_test, num_classes=3)\n",
        "y_train = to_categorical(y_train, num_classes=3)\n",
        "\n",
        "#defining accuracy metrics\n",
        "def recall(y_true, y_pred):\n",
        "    true_positives = K.sum(K.round(K.clip(y_true * y_pred, 0, 1)))\n",
        "    possible_positives = K.sum(K.round(K.clip(y_true, 0, 1)))\n",
        "    recall = true_positives / (possible_positives + K.epsilon())\n",
        "    return recall\n",
        "\n",
        "def precision(y_true, y_pred):\n",
        "    true_positives = K.sum(K.round(K.clip(y_true * y_pred, 0, 1)))\n",
        "    predicted_positives = K.sum(K.round(K.clip(y_pred, 0, 1)))\n",
        "    precision = true_positives / (predicted_positives + K.epsilon())\n",
        "    return precision\n",
        "\n",
        "def f1(y_true, y_pred):\n",
        "    precisions = precision(y_true, y_pred)\n",
        "    recalls = recall(y_true, y_pred)\n",
        "    return 2*((precisions*recalls)/(precisions+recalls+K.epsilon()))"
      ],
      "metadata": {
        "id": "b7cuo4er9fX9"
      },
      "execution_count": null,
      "outputs": []
    },
    {
      "cell_type": "code",
      "source": [
        "output_dim = 200\n",
        "\n",
        "# LSTM model architechture (CNN + LSTM)\n",
        "model = Sequential([\n",
        "    # embedding layer is like idk\n",
        "    Embedding(vocab_size, output_dim, input_length=max_length),\n",
        "    # lstm for xxx\n",
        "    LSTM(64, dropout=0.3, recurrent_dropout=0.3),\n",
        "    # dropout to prevent overfitting\n",
        "    Dropout(0.5),\n",
        "    # dense to connect the previous output with current layer\n",
        "    Dense(128, activation=\"relu\"),\n",
        "    # dropout to prevent overfitting\n",
        "    Dropout(0.5),\n",
        "    # this is output layer, with 3 class (0, 1, 2)\n",
        "    Dense(3, activation=\"softmax\"),\n",
        "])\n",
        "\n",
        "model.compile(optimizer='adam', loss='categorical_crossentropy', metrics=['accuracy',f1,precision, recall])"
      ],
      "metadata": {
        "id": "LrZ-gGdCh-1y"
      },
      "execution_count": null,
      "outputs": []
    },
    {
      "cell_type": "code",
      "source": [
        "# Train the model\n",
        "model_history = model.fit(\n",
        "    X_train,\n",
        "    y_train,\n",
        "    batch_size = 64,\n",
        "    epochs=10,\n",
        "    validation_data=(X_test, y_test)\n",
        ")"
      ],
      "metadata": {
        "colab": {
          "base_uri": "https://localhost:8080/"
        },
        "id": "lheryyzA9w7b",
        "outputId": "90114ac8-8115-42f1-bc9b-7d74da2f205f"
      },
      "execution_count": null,
      "outputs": [
        {
          "output_type": "stream",
          "name": "stdout",
          "text": [
            "Epoch 1/10\n",
            "311/311 [==============================] - 36s 103ms/step - loss: 0.4579 - accuracy: 0.8433 - f1: 0.8173 - precision: 0.8476 - recall: 0.7949 - val_loss: 0.3266 - val_accuracy: 0.8854 - val_f1: 0.8848 - val_precision: 0.8968 - val_recall: 0.8733\n",
            "Epoch 2/10\n",
            "311/311 [==============================] - 31s 101ms/step - loss: 0.2358 - accuracy: 0.9216 - f1: 0.9210 - precision: 0.9315 - recall: 0.9109 - val_loss: 0.3074 - val_accuracy: 0.8862 - val_f1: 0.8877 - val_precision: 0.8947 - val_recall: 0.8808\n",
            "Epoch 3/10\n",
            "311/311 [==============================] - 31s 100ms/step - loss: 0.1536 - accuracy: 0.9477 - f1: 0.9478 - precision: 0.9510 - recall: 0.9447 - val_loss: 0.3725 - val_accuracy: 0.8800 - val_f1: 0.8805 - val_precision: 0.8844 - val_recall: 0.8767\n",
            "Epoch 4/10\n",
            "311/311 [==============================] - 32s 102ms/step - loss: 0.1081 - accuracy: 0.9639 - f1: 0.9638 - precision: 0.9654 - recall: 0.9623 - val_loss: 0.4480 - val_accuracy: 0.8665 - val_f1: 0.8665 - val_precision: 0.8680 - val_recall: 0.8650\n",
            "Epoch 5/10\n",
            "311/311 [==============================] - 31s 100ms/step - loss: 0.0800 - accuracy: 0.9730 - f1: 0.9732 - precision: 0.9744 - recall: 0.9720 - val_loss: 0.5910 - val_accuracy: 0.8617 - val_f1: 0.8628 - val_precision: 0.8644 - val_recall: 0.8612\n",
            "Epoch 6/10\n",
            "311/311 [==============================] - 31s 99ms/step - loss: 0.0642 - accuracy: 0.9779 - f1: 0.9778 - precision: 0.9785 - recall: 0.9771 - val_loss: 0.5715 - val_accuracy: 0.8598 - val_f1: 0.8600 - val_precision: 0.8613 - val_recall: 0.8587\n",
            "Epoch 7/10\n",
            "311/311 [==============================] - 32s 102ms/step - loss: 0.0535 - accuracy: 0.9818 - f1: 0.9817 - precision: 0.9823 - recall: 0.9811 - val_loss: 0.6503 - val_accuracy: 0.8586 - val_f1: 0.8581 - val_precision: 0.8597 - val_recall: 0.8566\n",
            "Epoch 8/10\n",
            "311/311 [==============================] - 31s 101ms/step - loss: 0.0495 - accuracy: 0.9834 - f1: 0.9834 - precision: 0.9838 - recall: 0.9830 - val_loss: 0.7173 - val_accuracy: 0.8655 - val_f1: 0.8658 - val_precision: 0.8662 - val_recall: 0.8653\n",
            "Epoch 9/10\n",
            "311/311 [==============================] - 31s 99ms/step - loss: 0.0403 - accuracy: 0.9854 - f1: 0.9855 - precision: 0.9859 - recall: 0.9850 - val_loss: 0.7545 - val_accuracy: 0.8687 - val_f1: 0.8689 - val_precision: 0.8697 - val_recall: 0.8681\n",
            "Epoch 10/10\n",
            "311/311 [==============================] - 31s 101ms/step - loss: 0.0390 - accuracy: 0.9859 - f1: 0.9859 - precision: 0.9863 - recall: 0.9856 - val_loss: 0.8286 - val_accuracy: 0.8608 - val_f1: 0.8612 - val_precision: 0.8615 - val_recall: 0.8609\n"
          ]
        }
      ]
    },
    {
      "cell_type": "code",
      "source": [
        "#report acccuracy\n",
        "import matplotlib.pyplot as plt\n",
        "hist = model.history.history\n",
        "plt.plot(hist['loss'],'r',linewidth=2, label='Training loss')\n",
        "plt.plot(hist['val_loss'], 'g',linewidth=2, label='Validation loss')\n",
        "plt.title('Hate Speech and Offensive language Model')\n",
        "plt.xlabel('Epochs numbers')\n",
        "plt.ylabel('MSE numbers')\n",
        "plt.show()"
      ],
      "metadata": {
        "colab": {
          "base_uri": "https://localhost:8080/",
          "height": 472
        },
        "id": "BcFOYHgJ9x2i",
        "outputId": "00e9417e-d41e-4073-95f8-83be4494fa23"
      },
      "execution_count": null,
      "outputs": [
        {
          "output_type": "display_data",
          "data": {
            "text/plain": [
              "<Figure size 640x480 with 1 Axes>"
            ],
            "image/png": "[encoded data removed]"
          },
          "metadata": {}
        }
      ]
    },
    {
      "cell_type": "code",
      "source": [
        "!pip3 install flask_ngrok\n",
        "!pip3 install pyngrok==4.1.1\n",
        "!ngrok authtoken '2bFHzyDrvYy1BPHTyJ7m42eA2tZ_4uxmxZRaYHazrbXVvsYP9'"
      ],
      "metadata": {
        "colab": {
          "base_uri": "https://localhost:8080/"
        },
        "id": "1fXZcjG5uO_d",
        "outputId": "c25f3ad1-8a86-4bfe-86fe-db206d90a21c"
      },
      "execution_count": null,
      "outputs": [
        {
          "output_type": "stream",
          "name": "stdout",
          "text": [
            "Collecting flask_ngrok\n",
            "  Downloading flask_ngrok-0.0.25-py3-none-any.whl (3.1 kB)\n",
            "Requirement already satisfied: Flask>=0.8 in /usr/local/lib/python3.10/dist-packages (from flask_ngrok) (2.2.5)\n",
            "Requirement already satisfied: requests in /usr/local/lib/python3.10/dist-packages (from flask_ngrok) (2.31.0)\n",
            "Requirement already satisfied: Werkzeug>=2.2.2 in /usr/local/lib/python3.10/dist-packages (from Flask>=0.8->flask_ngrok) (3.0.1)\n",
            "Requirement already satisfied: Jinja2>=3.0 in /usr/local/lib/python3.10/dist-packages (from Flask>=0.8->flask_ngrok) (3.1.3)\n",
            "Requirement already satisfied: itsdangerous>=2.0 in /usr/local/lib/python3.10/dist-packages (from Flask>=0.8->flask_ngrok) (2.1.2)\n",
            "Requirement already satisfied: click>=8.0 in /usr/local/lib/python3.10/dist-packages (from Flask>=0.8->flask_ngrok) (8.1.7)\n",
            "Requirement already satisfied: charset-normalizer<4,>=2 in /usr/local/lib/python3.10/dist-packages (from requests->flask_ngrok) (3.3.2)\n",
            "Requirement already satisfied: idna<4,>=2.5 in /usr/local/lib/python3.10/dist-packages (from requests->flask_ngrok) (3.6)\n",
            "Requirement already satisfied: urllib3<3,>=1.21.1 in /usr/local/lib/python3.10/dist-packages (from requests->flask_ngrok) (2.0.7)\n",
            "Requirement already satisfied: certifi>=2017.4.17 in /usr/local/lib/python3.10/dist-packages (from requests->flask_ngrok) (2023.11.17)\n",
            "Requirement already satisfied: MarkupSafe>=2.0 in /usr/local/lib/python3.10/dist-packages (from Jinja2>=3.0->Flask>=0.8->flask_ngrok) (2.1.3)\n",
            "Installing collected packages: flask_ngrok\n",
            "Successfully installed flask_ngrok-0.0.25\n",
            "Collecting pyngrok==4.1.1\n",
            "  Downloading pyngrok-4.1.1.tar.gz (18 kB)\n",
            "  Preparing metadata (setup.py) ... \u001b[?25l\u001b[?25hdone\n",
            "Requirement already satisfied: future in /usr/local/lib/python3.10/dist-packages (from pyngrok==4.1.1) (0.18.3)\n",
            "Requirement already satisfied: PyYAML in /usr/local/lib/python3.10/dist-packages (from pyngrok==4.1.1) (6.0.1)\n",
            "Building wheels for collected packages: pyngrok\n",
            "  Building wheel for pyngrok (setup.py) ... \u001b[?25l\u001b[?25hdone\n",
            "  Created wheel for pyngrok: filename=pyngrok-4.1.1-py3-none-any.whl size=15963 sha256=8445368ade29822a12a3092b5f51c918d45ca535c9eb2a6df664f5f49575388b\n",
            "  Stored in directory: /root/.cache/pip/wheels/4c/7c/4c/632fba2ea8e88d8890102eb07bc922e1ca8fa14db5902c91a8\n",
            "Successfully built pyngrok\n",
            "Installing collected packages: pyngrok\n",
            "Successfully installed pyngrok-4.1.1\n",
            "Authtoken saved to configuration file: /root/.ngrok2/ngrok.yml\n"
          ]
        }
      ]
    },
    {
      "cell_type": "code",
      "source": [
        "from flask_ngrok import run_with_ngrok\n",
        "import numpy as np\n",
        "from flask import Flask, request, render_template\n",
        "import pickle\n",
        "\n",
        "template_folder = '/content/drive/MyDrive/Colab Notebooks/UTSHackathon/template'\n",
        "static_folder = '/content/drive/MyDrive/Colab Notebooks/UTSHackathon/static'\n",
        "\n",
        "app = Flask(__name__,template_folder=template_folder,static_folder=static_folder)\n",
        "run_with_ngrok(app)\n",
        "\n",
        "@app.route('/aboutUS', methods=['GET'])\n",
        "def aboutUS():\n",
        "  return render_template(\"aboutus.html\")\n",
        "\n",
        "@app.route('/', methods=['GET'])\n",
        "def home():\n",
        "  return render_template(\"index (1).html\")\n",
        "\n",
        "@app.route('/login', methods=['GET'])\n",
        "def login():\n",
        "  return render_template(\"login.html\")\n",
        "\n",
        "@app.route('/yourvoice', methods=['GET'])\n",
        "def yourvoice():\n",
        "  voice = request.form.get('message')\n",
        "  print(voice)\n",
        "  return render_template(\"yourvoice.html\")\n",
        "\n",
        "@app.route('/Send', methods=['POST','GET'])\n",
        "def predict():\n",
        "  test_data= request.form.get('message')\n",
        "  df = cv.transform([test_data]).toarray()\n",
        "  predictions = model.predict(df)\n",
        "  print(predictions)\n",
        "  if predictions == ['Offensive Language Detected']:\n",
        "    return render_template(\"index (1).html\", pred=\"{}.Your passage may contain sterotypes or aggresive language that are offensive towards a certain minority group.\\nIt is always important to consider the context you are speaking in and respect the culture and beliefs of other groups. Please consider revising your sentence.\".format(predictions))\n",
        "  elif predictions == ['Hate Speech Detected']:\n",
        "    return render_template(\"index (1).html\", pred=\"{}. Your passage contains hate language towards someone or some group.\\nNote that such unfriendly language may greatly jeopardize their mental well=being and reflect badly on you\\nWe understand that you might have written it in a frustrating context, but it is always crucial to consider the impacts of your words on others. Please do not swear at or target others.\".format(predictions))\n",
        "  else:\n",
        "    return render_template(\"index (1).html\", pred=\"{}. Your passage is good! Good job helping us break the societal barriers of biases and stereotypes!\".format(predictions))\n",
        "\n",
        "\n",
        "if __name__ == \"__main__\":\n",
        "    app.run()"
      ],
      "metadata": {
        "id": "t_xQeIuOs3gw",
        "colab": {
          "base_uri": "https://localhost:8080/"
        },
        "outputId": "b95ac451-8328-4db2-93f7-4939740e0f3a"
      },
      "execution_count": null,
      "outputs": [
        {
          "output_type": "stream",
          "name": "stdout",
          "text": [
            " * Serving Flask app '__main__'\n",
            " * Debug mode: off\n"
          ]
        },
        {
          "output_type": "stream",
          "name": "stderr",
          "text": [
            "INFO:werkzeug:\u001b[31m\u001b[1mWARNING: This is a development server. Do not use it in a production deployment. Use a production WSGI server instead.\u001b[0m\n",
            " * Running on http://127.0.0.1:5000\n",
            "INFO:werkzeug:\u001b[33mPress CTRL+C to quit\u001b[0m\n"
          ]
        },
        {
          "output_type": "stream",
          "name": "stdout",
          "text": [
            " * Running on http://6fb6-34-138-53-227.ngrok-free.app\n",
            " * Traffic stats available on http://127.0.0.1:4040\n"
          ]
        },
        {
          "output_type": "stream",
          "name": "stderr",
          "text": [
            "INFO:werkzeug:127.0.0.1 - - [23/Jan/2024 20:11:40] \"GET / HTTP/1.1\" 200 -\n",
            "INFO:werkzeug:127.0.0.1 - - [23/Jan/2024 20:11:40] \"GET /static/style%20(1).css HTTP/1.1\" 200 -\n",
            "INFO:werkzeug:127.0.0.1 - - [23/Jan/2024 20:11:40] \"GET /static/DEI.jpg HTTP/1.1\" 200 -\n",
            "INFO:werkzeug:127.0.0.1 - - [23/Jan/2024 20:11:41] \"\u001b[33mGET /favicon.ico HTTP/1.1\u001b[0m\" 404 -\n",
            "INFO:werkzeug:127.0.0.1 - - [23/Jan/2024 20:12:31] \"POST /Send HTTP/1.1\" 200 -\n"
          ]
        },
        {
          "output_type": "stream",
          "name": "stdout",
          "text": [
            "['Offensive Language Detected']\n"
          ]
        },
        {
          "output_type": "stream",
          "name": "stderr",
          "text": [
            "INFO:werkzeug:127.0.0.1 - - [23/Jan/2024 20:12:31] \"\u001b[36mGET /static/style%20(1).css HTTP/1.1\u001b[0m\" 304 -\n",
            "INFO:werkzeug:127.0.0.1 - - [23/Jan/2024 20:12:31] \"\u001b[36mGET /static/DEI.jpg HTTP/1.1\u001b[0m\" 304 -\n"
          ]
        }
      ]
    }
  ]
}