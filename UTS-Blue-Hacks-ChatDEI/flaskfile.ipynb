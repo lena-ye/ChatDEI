{
  "nbformat": 4,
  "nbformat_minor": 0,
  "metadata": {
    "colab": {
      "provenance": [],
      "gpuType": "T4"
    },
    "kernelspec": {
      "name": "python3",
      "display_name": "Python 3"
    },
    "language_info": {
      "name": "python"
    },
    "accelerator": "GPU"
  },
  "cells": [
    {
      "cell_type": "code",
      "execution_count": null,
      "metadata": {
        "colab": {
          "base_uri": "https://localhost:8080/"
        },
        "id": "p6RcJDP-YtnQ",
        "outputId": "9ea1f22c-82e5-4370-8f7a-00472e8ff107"
      },
      "outputs": [
        {
          "output_type": "stream",
          "name": "stdout",
          "text": [
            "Requirement already satisfied: flask-ngrok in /usr/local/lib/python3.10/dist-packages (0.0.25)\n",
            "Requirement already satisfied: Flask>=0.8 in /usr/local/lib/python3.10/dist-packages (from flask-ngrok) (2.2.5)\n",
            "Requirement already satisfied: requests in /usr/local/lib/python3.10/dist-packages (from flask-ngrok) (2.31.0)\n",
            "Requirement already satisfied: Werkzeug>=2.2.2 in /usr/local/lib/python3.10/dist-packages (from Flask>=0.8->flask-ngrok) (3.0.1)\n",
            "Requirement already satisfied: Jinja2>=3.0 in /usr/local/lib/python3.10/dist-packages (from Flask>=0.8->flask-ngrok) (3.1.3)\n",
            "Requirement already satisfied: itsdangerous>=2.0 in /usr/local/lib/python3.10/dist-packages (from Flask>=0.8->flask-ngrok) (2.1.2)\n",
            "Requirement already satisfied: click>=8.0 in /usr/local/lib/python3.10/dist-packages (from Flask>=0.8->flask-ngrok) (8.1.7)\n",
            "Requirement already satisfied: charset-normalizer<4,>=2 in /usr/local/lib/python3.10/dist-packages (from requests->flask-ngrok) (3.3.2)\n",
            "Requirement already satisfied: idna<4,>=2.5 in /usr/local/lib/python3.10/dist-packages (from requests->flask-ngrok) (3.6)\n",
            "Requirement already satisfied: urllib3<3,>=1.21.1 in /usr/local/lib/python3.10/dist-packages (from requests->flask-ngrok) (2.0.7)\n",
            "Requirement already satisfied: certifi>=2017.4.17 in /usr/local/lib/python3.10/dist-packages (from requests->flask-ngrok) (2023.11.17)\n",
            "Requirement already satisfied: MarkupSafe>=2.0 in /usr/local/lib/python3.10/dist-packages (from Jinja2>=3.0->Flask>=0.8->flask-ngrok) (2.1.3)\n"
          ]
        }
      ],
      "source": [
        "!pip install flask-ngrok"
      ]
    },
    {
      "cell_type": "code",
      "source": [
        "cd /content/drive/MyDrive/Colab Notebooks/ChatDEI"
      ],
      "metadata": {
        "colab": {
          "base_uri": "https://localhost:8080/"
        },
        "id": "XEwtrZhGY4xE",
        "outputId": "a670df35-8dc6-402c-b71a-320ef7a22ea8"
      },
      "execution_count": null,
      "outputs": [
        {
          "output_type": "stream",
          "name": "stdout",
          "text": [
            "[Errno 2] No such file or directory: '/content/drive/MyDrive/Colab Notebooks/ChatDEI'\n",
            "/content\n"
          ]
        }
      ]
    },
    {
      "cell_type": "code",
      "source": [
        "from flask_ngrok import run_with_ngrok\n",
        "from flask import Flask, request, render_template\n",
        "import pickle\n",
        "import nbformat\n",
        "import numpy as np"
      ],
      "metadata": {
        "id": "gyva5ATRZRUO"
      },
      "execution_count": null,
      "outputs": []
    },
    {
      "cell_type": "code",
      "source": [
        "from google.colab import drive\n",
        "drive.mount('/content/drive')"
      ],
      "metadata": {
        "id": "rwkhtcVRyZz5",
        "colab": {
          "base_uri": "https://localhost:8080/"
        },
        "outputId": "61f1e540-4692-4a26-b07b-986723f80d4e"
      },
      "execution_count": null,
      "outputs": [
        {
          "output_type": "stream",
          "name": "stdout",
          "text": [
            "Drive already mounted at /content/drive; to attempt to forcibly remount, call drive.mount(\"/content/drive\", force_remount=True).\n"
          ]
        }
      ]
    },
    {
      "cell_type": "code",
      "source": [
        "import os\n",
        "modelPath = '/content/drive/MyDrive/Colab Notebooks/ChatDEI/'"
      ],
      "metadata": {
        "id": "evsSxPP4zNYk"
      },
      "execution_count": null,
      "outputs": []
    },
    {
      "cell_type": "code",
      "source": [
        "# tokenizer = pickle.load(open(\"cv.pkl\", \"rb\")) #file name + directory; THIS IS FROM TUTORIAL\n",
        "# model = pickle.load(open(\"clf.pkl\", \"rb\")) #ACTUAL WILL BE DIFFERENT bc not using pickle\n",
        "\n",
        "# create flask app\n",
        "app = Flask(__name__)\n",
        "\n",
        "@app.route('/', methods=['GET'])\n",
        "def home():\n",
        "  return render_template(\"index.html\")\n",
        "\n",
        "@app.route('/predict', methods=['POST'])\n",
        "def predict():\n",
        "  message = request.form.get('message')\n",
        "  tokenized_message = tokenizer.transform(message)\n",
        "  predictions = model.predict(tokenized_message)\n",
        "\n",
        "  return render_template(\"index.html\", predictions)\n",
        "\n",
        "\n",
        "if __name__ == '__main__': #bug here; cannot access link\n",
        "    app.run(port = 3000, debug=True)"
      ],
      "metadata": {
        "id": "JpfnxDWFZSY1",
        "colab": {
          "base_uri": "https://localhost:8080/"
        },
        "outputId": "8742f96a-2b3d-4d78-c0fc-77ea8cb3472f"
      },
      "execution_count": null,
      "outputs": [
        {
          "output_type": "stream",
          "name": "stdout",
          "text": [
            " * Serving Flask app '__main__'\n",
            " * Debug mode: on\n"
          ]
        },
        {
          "output_type": "stream",
          "name": "stderr",
          "text": [
            "INFO:werkzeug:\u001b[31m\u001b[1mWARNING: This is a development server. Do not use it in a production deployment. Use a production WSGI server instead.\u001b[0m\n",
            " * Running on http://127.0.0.1:3000\n",
            "INFO:werkzeug:\u001b[33mPress CTRL+C to quit\u001b[0m\n",
            "INFO:werkzeug: * Restarting with stat\n"
          ]
        }
      ]
    },
    {
      "cell_type": "code",
      "source": [
        "# Import necessary libraries\n",
        "from your_model_library import load_model  # Replace with the actual library you are using for the model\n",
        "\n",
        "\n",
        "\n",
        "# Load your model and tokenizer\n",
        "model = load_model('path/to/your/model.h5')  # Replace with the path to your model file\n",
        "\n",
        "# Create Flask app\n",
        "app = Flask(__name__)\n",
        "\n",
        "@app.route('/', methods=['GET'])\n",
        "def home():\n",
        "    return render_template(\"index.html\")\n",
        "\n",
        "@app.route('/predict', methods=['POST'])\n",
        "def predict():\n",
        "    if request.method == 'POST':\n",
        "        message = request.form.get('message')\n",
        "        predictions = model.predict(message)\n",
        "\n",
        "        # Assuming predictions is a dictionary containing the results\n",
        "        # You may need to adjust this part based on the structure of your predictions\n",
        "        predictions_result = predictions['your_result_key']\n",
        "\n",
        "        return render_template(\"index.html\", predictions=predictions_result)\n",
        "\n",
        "if __name__ == '__main__':\n",
        "    app.run(port=3000, debug=True)\n"
      ],
      "metadata": {
        "id": "5UwohWuBffJ-"
      },
      "execution_count": null,
      "outputs": []
    }
  ]
}